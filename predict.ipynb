{
 "cells": [
  {
   "cell_type": "code",
   "execution_count": 2,
   "id": "e75c7136",
   "metadata": {},
   "outputs": [
    {
     "name": "stderr",
     "output_type": "stream",
     "text": [
      "2025-05-12 08:35:53.237467: I external/local_xla/xla/tsl/cuda/cudart_stub.cc:32] Could not find cuda drivers on your machine, GPU will not be used.\n",
      "2025-05-12 08:35:53.456992: I external/local_xla/xla/tsl/cuda/cudart_stub.cc:32] Could not find cuda drivers on your machine, GPU will not be used.\n",
      "2025-05-12 08:35:53.569247: E external/local_xla/xla/stream_executor/cuda/cuda_fft.cc:467] Unable to register cuFFT factory: Attempting to register factory for plugin cuFFT when one has already been registered\n",
      "WARNING: All log messages before absl::InitializeLog() is called are written to STDERR\n",
      "E0000 00:00:1747038953.733713    1305 cuda_dnn.cc:8579] Unable to register cuDNN factory: Attempting to register factory for plugin cuDNN when one has already been registered\n",
      "E0000 00:00:1747038953.822500    1305 cuda_blas.cc:1407] Unable to register cuBLAS factory: Attempting to register factory for plugin cuBLAS when one has already been registered\n",
      "W0000 00:00:1747038954.432493    1305 computation_placer.cc:177] computation placer already registered. Please check linkage and avoid linking the same target more than once.\n",
      "W0000 00:00:1747038954.432529    1305 computation_placer.cc:177] computation placer already registered. Please check linkage and avoid linking the same target more than once.\n",
      "W0000 00:00:1747038954.432533    1305 computation_placer.cc:177] computation placer already registered. Please check linkage and avoid linking the same target more than once.\n",
      "W0000 00:00:1747038954.432536    1305 computation_placer.cc:177] computation placer already registered. Please check linkage and avoid linking the same target more than once.\n",
      "2025-05-12 08:35:54.459931: I tensorflow/core/platform/cpu_feature_guard.cc:210] This TensorFlow binary is optimized to use available CPU instructions in performance-critical operations.\n",
      "To enable the following instructions: AVX2 FMA, in other operations, rebuild TensorFlow with the appropriate compiler flags.\n"
     ]
    }
   ],
   "source": [
    "import csv\n",
    "import numpy as np \n",
    "from sklearn.svm import SVR\n",
    "import matplotlib.pyplot as plt \n",
    "import tensorflow as tf\n",
    "import pandas as pd"
   ]
  },
  {
   "cell_type": "code",
   "execution_count": 3,
   "id": "1b0df351",
   "metadata": {},
   "outputs": [],
   "source": [
    "dates = []\n",
    "openPrice = []\n",
    "highest = []\n",
    "lowest = []\n",
    "closePrice = []\n",
    "volumes = []"
   ]
  },
  {
   "cell_type": "code",
   "execution_count": 4,
   "id": "165e9f34",
   "metadata": {},
   "outputs": [],
   "source": [
    "with open('aapl.csv')as file:\n",
    "    reader = csv.reader(file)\n",
    "    for date, Open, high, low, close, volume in reader:\n",
    "        dates.append(date)\n",
    "        openPrice.append(Open)\n",
    "        highest.append(high)\n",
    "        lowest.append(low)\n",
    "        closePrice.append(close)\n",
    "        volumes.append(volume.replace(\",\", \"\"))"
   ]
  },
  {
   "cell_type": "code",
   "execution_count": 8,
   "id": "4cced34d",
   "metadata": {},
   "outputs": [
    {
     "name": "stdout",
     "output_type": "stream",
     "text": [
      "<class 'str'> 51216480\n"
     ]
    }
   ],
   "source": [
    "print(type(volumes[0]), volumes[0])"
   ]
  },
  {
   "cell_type": "markdown",
   "id": "0b5e8eb3",
   "metadata": {},
   "source": [
    "RSI = rsi last_close - today_close\n",
    "Moving Average = mv\n",
    "Volume = vol"
   ]
  },
  {
   "cell_type": "code",
   "execution_count": 6,
   "id": "4cf08de2",
   "metadata": {},
   "outputs": [],
   "source": [
    "years = []\n",
    "monthes = []\n",
    "days = []\n",
    "\n",
    "for i in range(len(dates)):\n",
    "    date_sep = dates[i].split(\"/\")\n",
    "\n",
    "    year = int(date_sep[2])\n",
    "    month = int(date_sep[0])\n",
    "    day = int(date_sep[1])\n",
    "\n",
    "    years.append(year)\n",
    "    monthes.append(month)\n",
    "    days.append(day)\n"
   ]
  },
  {
   "cell_type": "code",
   "execution_count": 7,
   "id": "0aff87f8",
   "metadata": {},
   "outputs": [
    {
     "name": "stdout",
     "output_type": "stream",
     "text": [
      "<class 'str'>\n"
     ]
    }
   ],
   "source": [
    "print(type(closePrice[1]))"
   ]
  },
  {
   "cell_type": "markdown",
   "id": "5337d4c8",
   "metadata": {},
   "source": [
    "up = positive gap between yesterday close and todays close\n",
    "down = negative gap between yesterday close and todays close\n",
    "\n",
    "ave = average \n",
    "rs = relative \n",
    "rsi = rs index"
   ]
  },
  {
   "cell_type": "code",
   "execution_count": null,
   "id": "b349eed3",
   "metadata": {},
   "outputs": [],
   "source": [
    "ups = []\n",
    "downs = []\n",
    "closePrices = []"
   ]
  },
  {
   "cell_type": "code",
   "execution_count": null,
   "id": "8e59b4d3",
   "metadata": {},
   "outputs": [],
   "source": [
    "def rsi(rsi_term):\n",
    "    for j in len(closePrice):\n",
    "        finish = int(closePrice[j])\n",
    "        closePrices.append(finish)\n",
    "        if closePrices[j] >= closePrices[j-1]:\n",
    "            up = closePrices[j] - closePrices[j-1]\n",
    "            ups.append(up)\n",
    "            \n",
    "        else:\n",
    "            down = closePrices[j-1] - closePrices[j]\n",
    "            downs.append(down)\n",
    "\n",
    "\n",
    "    ave_ups = sum(ups[0:rsi_term]) / len(ups[0:rsi_term])        \n",
    "    ave_downs = sum(downs[0:rsi_term]) / len(downs[0:rsi_term])\n",
    "\n",
    "    rs = ave_ups / ave_downs\n",
    "    rsi = 100 - (100 / (rs + 1))\n",
    "    print(rs, rsi)\n",
    "    return rs, rsi, closePrices"
   ]
  },
  {
   "cell_type": "markdown",
   "id": "ab169c78",
   "metadata": {},
   "source": [
    "rsi\n",
    "moving average\n",
    "volume"
   ]
  },
  {
   "cell_type": "markdown",
   "id": "0526259a",
   "metadata": {},
   "source": [
    "Random Tree\n",
    "\n",
    "rsi over 70 %  -> too much sell\n",
    "rsi less 30 % -> too much buy\n",
    "\n",
    "volume\n",
    "high -> gained attention from investors\n",
    "\n",
    "Moving Average \n",
    "EMA:… EMA_today = α × price_today + (1 - α) × EMA_yesterday\n",
    "α（平滑化定数）= 2 / (期間 + 1)\n",
    "\n",
    "-> SMA: SMA_5（今日） = (今日 + 昨日 + 一昨日 + ... + 5日前) の終値合計 ÷ 5"
   ]
  },
  {
   "cell_type": "markdown",
   "id": "8dc43bfd",
   "metadata": {},
   "source": [
    "| 状況              | 解釈                     |\n",
    "| --------------- | ---------------------- |\n",
    "| RSIが80、出来高が急増   | 過熱気味。反落の可能性あり。         |\n",
    "| RSIが20、出来高が急増   | 安値圏で注目されてる → 反発の可能性あり。 |\n",
    "| RSIが50付近、出来高が低い | 横ばい傾向で方向感なし。様子見。       |\n"
   ]
  },
  {
   "cell_type": "code",
   "execution_count": null,
   "id": "7dd982ad",
   "metadata": {},
   "outputs": [],
   "source": [
    "def SMA(term):\n",
    "    sma = 0\n",
    "    for k in range(term - 1):\n",
    "        sma += closePrices[k]\n",
    "        sma = 1 / term * sma\n",
    "    return sma"
   ]
  },
  {
   "cell_type": "code",
   "execution_count": null,
   "id": "57eb5948",
   "metadata": {},
   "outputs": [],
   "source": [
    "def shift_volume(term):\n",
    "    intvolumes = []\n",
    "    for n in range(len(volumes)):\n",
    "        intvolume = int(volume[n])\n",
    "        intvolumes.append(intvolume)\n",
    "    \n",
    "    return intvolumes"
   ]
  },
  {
   "cell_type": "markdown",
   "id": "c3975330",
   "metadata": {},
   "source": [
    "rsi check\n",
    "sma check\n",
    "ema\n",
    "intvolumes check"
   ]
  },
  {
   "cell_type": "markdown",
   "id": "b9082a59",
   "metadata": {},
   "source": [
    "term = may be 5 ~ 10\n",
    "rsi_term = may be 20 ~"
   ]
  },
  {
   "cell_type": "code",
   "execution_count": 59,
   "id": "45fc1934",
   "metadata": {},
   "outputs": [
    {
     "name": "stdout",
     "output_type": "stream",
     "text": [
      "       rsi > 70%  rsi < 30%  volume  Moving Average\n",
      "NVDA           1          1       1               1\n",
      "AAPL           1          1       1               1\n",
      "GGOL           1          1       1               1\n",
      "TESLA          1          1       1               1\n"
     ]
    }
   ],
   "source": [
    "data = {\n",
    "    \"rsi > 70%\":[1,1,1,1],\n",
    "    \"rsi < 30%\": [1,1,1,1],\n",
    "    \"volume\": [1,1,1,1],\n",
    "    \"Moving Average\": [1,1,1,1]\n",
    "}\n",
    "myvar = pd.DataFrame(data, index = [\"NVDA\", \"AAPL\", \"GGOL\", \"TESLA\", ])\n",
    "print(myvar)"
   ]
  }
 ],
 "metadata": {
  "kernelspec": {
   "display_name": "Python 3",
   "language": "python",
   "name": "python3"
  },
  "language_info": {
   "codemirror_mode": {
    "name": "ipython",
    "version": 3
   },
   "file_extension": ".py",
   "mimetype": "text/x-python",
   "name": "python",
   "nbconvert_exporter": "python",
   "pygments_lexer": "ipython3",
   "version": "3.12.1"
  }
 },
 "nbformat": 4,
 "nbformat_minor": 5
}
