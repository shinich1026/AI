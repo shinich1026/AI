{
 "cells": [
  {
   "cell_type": "code",
   "execution_count": 1,
   "id": "e75c7136",
   "metadata": {},
   "outputs": [
    {
     "name": "stderr",
     "output_type": "stream",
     "text": [
      "2025-05-09 21:09:17.924895: I external/local_xla/xla/tsl/cuda/cudart_stub.cc:32] Could not find cuda drivers on your machine, GPU will not be used.\n",
      "2025-05-09 21:09:18.091575: I external/local_xla/xla/tsl/cuda/cudart_stub.cc:32] Could not find cuda drivers on your machine, GPU will not be used.\n",
      "2025-05-09 21:09:18.180275: E external/local_xla/xla/stream_executor/cuda/cuda_fft.cc:467] Unable to register cuFFT factory: Attempting to register factory for plugin cuFFT when one has already been registered\n",
      "WARNING: All log messages before absl::InitializeLog() is called are written to STDERR\n",
      "E0000 00:00:1746824958.291343    1995 cuda_dnn.cc:8579] Unable to register cuDNN factory: Attempting to register factory for plugin cuDNN when one has already been registered\n",
      "E0000 00:00:1746824958.324855    1995 cuda_blas.cc:1407] Unable to register cuBLAS factory: Attempting to register factory for plugin cuBLAS when one has already been registered\n",
      "W0000 00:00:1746824958.632456    1995 computation_placer.cc:177] computation placer already registered. Please check linkage and avoid linking the same target more than once.\n",
      "W0000 00:00:1746824958.632492    1995 computation_placer.cc:177] computation placer already registered. Please check linkage and avoid linking the same target more than once.\n",
      "W0000 00:00:1746824958.632495    1995 computation_placer.cc:177] computation placer already registered. Please check linkage and avoid linking the same target more than once.\n",
      "W0000 00:00:1746824958.632499    1995 computation_placer.cc:177] computation placer already registered. Please check linkage and avoid linking the same target more than once.\n",
      "2025-05-09 21:09:18.662287: I tensorflow/core/platform/cpu_feature_guard.cc:210] This TensorFlow binary is optimized to use available CPU instructions in performance-critical operations.\n",
      "To enable the following instructions: AVX2 FMA, in other operations, rebuild TensorFlow with the appropriate compiler flags.\n"
     ]
    }
   ],
   "source": [
    "import csv\n",
    "import numpy as np \n",
    "from sklearn.svm import SVR\n",
    "import matplotlib.pyplot as plt \n",
    "import tensorflow as tf"
   ]
  },
  {
   "cell_type": "code",
   "execution_count": 2,
   "id": "1b0df351",
   "metadata": {},
   "outputs": [],
   "source": [
    "dates = []\n",
    "openPrice = []\n",
    "highest = []\n",
    "lowest = []\n",
    "closePrice = []\n",
    "volumes = []"
   ]
  },
  {
   "cell_type": "code",
   "execution_count": 3,
   "id": "165e9f34",
   "metadata": {},
   "outputs": [
    {
     "name": "stdout",
     "output_type": "stream",
     "text": [
      "['198.21', '203.10', '206.09', '209.08', '209.30', '208.69', '210.00', '206.37', '204.89', '206.00', '196.12', '193.27', '197.20', '198.36', '201.86', '211.44', '186.10', '189.07', '171.95', '186.70', '177.20', '193.89', '205.54', '221.32', '219.81', '217.01', '221.67', '221.39', '223.51', '220.77', '221.00', '211.56', '213.99', '214.22', '214.16', '213.31', '211.25', '215.95', '220.14', '223.81', '235.54', '235.11', '234.44', '235.42', '237.71', '241.79', '236.95', '239.41', '244.33', '248.00', '244.93', '245.95', '244.94', '244.66', '244.15', '241.25', '236.91', '231.20', '228.20', '229.57', '232.60', '231.29', '228.53', '227.25', '229.99', '247.19', '238.67', '234.12', '230.85', '224.02', '224.78', '224.74', '219.79', '224.00', '232.12', '237.35', '234.64', '234.75', '233.53', '240.01', '241.92', '242.98', '244.31', '243.36', '248.93', '252.44', '252.23', '257.83', '258.19', '255.49', '254.77', '248.04', '247.50', '252.16', '250.08', '247.99', '247.82', '246.89', '247.96', '246.89', '241.83', '242.91', '243.99', '242.87', '239.81', '237.27', '234.81', '234.47', '233.33', '231.46', '228.06', '228.88', '228.06', '226.98', '225.25', '226.40', '225.02', '224.01', '224.55', '225.00', '227.17', '224.63', '222.61', '221.80', '220.99', '220.97', '229.34', '232.61', '233.10', '233.32', '229.74', '229.98', '234.08', '233.89', '234.45', '236.18', '233.43', '231.60', '233.61', '228.70', '229.30', '227.78', '225.23', '224.30', '224.50', '227.90', '225.14', '225.89', '229.52', '230.04', '228.46', '227.30', '224.93', '228.65', '227.34', '229.97', '224.99', '217.55', '215.75', '216.54', '223.58', '222.50', '221.46', '218.92', '220.82', '223.95', '221.63', '221.66', '228.55', '230.19', '230.10', '227.92', '226.00', '226.76', '225.66', '227.79', '226.52', '225.77', '225.72', '223.92', '224.60', '220.57', '219.01', '216.07', '212.10', '213.11', '206.90', '205.30', '199.09', '219.15', '224.37', '221.44', '219.19', '216.96', '218.70', '218.93', '224.00', '224.37', '227.01', '224.82', '230.28', '229.45', '235.00', '236.48', '228.92', '231.39', '229.30', '227.93', '227.09', '221.65', '220.00', '216.15', '212.09', '215.77', '214.69', '211.50', '209.15', '207.72', '210.39', '213.93', '217.59', '213.37', '213.85', '214.74', '207.37', '193.65', '196.90', '194.65', '195.69', '195.40', '194.64', '192.90', '191.44', '190.76', '189.61', '191.51', '188.82', '190.98', '192.27', '191.09', '189.33', '189.51', '190.47', '187.91', '187.51', '185.44', '184.90', '182.56', '182.85', '183.45', '182.35']\n"
     ]
    }
   ],
   "source": [
    "with open('aapl.csv')as file:\n",
    "    reader = csv.reader(file)\n",
    "    for date, Open, high, low, close, volume in reader:\n",
    "        dates.append(date)\n",
    "        openPrice.append(Open)\n",
    "        highest.append(high)\n",
    "        lowest.append(low)\n",
    "        closePrice.append(close)\n",
    "        volumes.append(volume.replace(\",\", \"\"))\n",
    "\n",
    "print (openPrice)"
   ]
  },
  {
   "cell_type": "markdown",
   "id": "c641491d",
   "metadata": {},
   "source": [
    "show past stock prise movement using matplotlib"
   ]
  },
  {
   "cell_type": "code",
   "execution_count": null,
   "id": "1a6bba9c",
   "metadata": {},
   "outputs": [],
   "source": []
  }
 ],
 "metadata": {
  "kernelspec": {
   "display_name": "Python 3",
   "language": "python",
   "name": "python3"
  },
  "language_info": {
   "codemirror_mode": {
    "name": "ipython",
    "version": 3
   },
   "file_extension": ".py",
   "mimetype": "text/x-python",
   "name": "python",
   "nbconvert_exporter": "python",
   "pygments_lexer": "ipython3",
   "version": "3.12.1"
  }
 },
 "nbformat": 4,
 "nbformat_minor": 5
}
